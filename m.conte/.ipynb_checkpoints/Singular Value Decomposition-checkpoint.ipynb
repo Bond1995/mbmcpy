{
 "cells": [
  {
   "cell_type": "code",
   "execution_count": 1,
   "metadata": {
    "collapsed": false
   },
   "outputs": [],
   "source": [
    "import numpy as np\n",
    "import sys\n",
    "import re\n",
    "\n",
    "from scipy import linalg\n",
    "from IPython.display import Latex\n",
    "\n",
    "def eof_latex(strx):\n",
    "    if not re.match(r'^\\\\\\[', strx): strx = '\\['+strx\n",
    "    if not re.match(r'\\\\\\]$', strx): strx = strx+'\\]'\n",
    "    return strx\n",
    "    \n",
    "    \n",
    "def matrix_to_latex(a,label='',brtype='('):\n",
    "    #impiego una ita a lavorare su matrici grosse\n",
    "    #attenzione attenzione io ritorno la sintassi latex della matrice\n",
    "    #ma per essere visualizzata in maniera adeguata vanno aggiunti all'inizio e alla fine \n",
    "    #\\[...]\\\n",
    "    #oppure\n",
    "    #\\\\[...]\\\\\n",
    "    options = {'(' : 'pmatrix','[' : 'bmatrix','{' : 'Bmatrix','|' : 'vmatrix','||' : 'Vmatrix'}\n",
    "    str_br_type = options[brtype]\n",
    "    if(label!=''):\n",
    "        _str = label+'='\n",
    "    else:\n",
    "        _str =''\n",
    "    _str +='\\\\begin{'+str_br_type+'}'\n",
    "    for i in range(a.shape[0]):\n",
    "        for j in range(a.shape[1]):\n",
    "            if j==0: _str += (str(a[i,j]))\n",
    "            else: _str += (' & '+str(a[i,j]))\n",
    "        _str+=('\\\\\\\\')\n",
    "    _str+=('\\\\end{'+str_br_type+'}')\n",
    "    return _str"
   ]
  },
  {
   "cell_type": "code",
   "execution_count": null,
   "metadata": {
    "collapsed": true
   },
   "outputs": [],
   "source": []
  },
  {
   "cell_type": "code",
   "execution_count": null,
   "metadata": {
    "collapsed": true
   },
   "outputs": [],
   "source": []
  },
  {
   "cell_type": "code",
   "execution_count": null,
   "metadata": {
    "collapsed": true
   },
   "outputs": [],
   "source": []
  }
 ],
 "metadata": {
  "kernelspec": {
   "display_name": "Python 3",
   "language": "python",
   "name": "python3"
  },
  "language_info": {
   "codemirror_mode": {
    "name": "ipython",
    "version": 3
   },
   "file_extension": ".py",
   "mimetype": "text/x-python",
   "name": "python",
   "nbconvert_exporter": "python",
   "pygments_lexer": "ipython3",
   "version": "3.6.0"
  }
 },
 "nbformat": 4,
 "nbformat_minor": 2
}
