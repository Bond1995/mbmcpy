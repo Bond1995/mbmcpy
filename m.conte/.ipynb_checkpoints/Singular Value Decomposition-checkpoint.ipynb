{
 "cells": [
  {
   "cell_type": "code",
   "execution_count": 6,
   "metadata": {
    "collapsed": false
   },
   "outputs": [],
   "source": [
    "import numpy as np\n",
    "import sys\n",
    "import re\n",
    "\n",
    "from IPython.display import Latex\n",
    "\n",
    "def eof_latex(strx):\n",
    "    if not re.match(r'^\\\\\\[', strx): strx = '\\['+strx\n",
    "    if not re.match(r'\\\\\\]$', strx): strx = strx+'\\]'\n",
    "    return strx\n",
    "    \n",
    "    \n",
    "def matrix_to_latex(a,label='',brtype='('):\n",
    "    #impiego una ita a lavorare su matrici grosse\n",
    "    #attenzione attenzione io ritorno la sintassi latex della matrice\n",
    "    #ma per essere visualizzata in maniera adeguata vanno aggiunti all'inizio e alla fine \n",
    "    #\\[...]\\\n",
    "    #oppure\n",
    "    #\\\\[...]\\\\\n",
    "    options = {'(' : 'pmatrix','[' : 'bmatrix','{' : 'Bmatrix','|' : 'vmatrix','||' : 'Vmatrix'}\n",
    "    str_br_type = options[brtype]\n",
    "    if(label!=''):\n",
    "        _str = label+'='\n",
    "    else:\n",
    "        _str =''\n",
    "    _str +='\\\\begin{'+str_br_type+'}'\n",
    "    for i in range(a.shape[0]):\n",
    "        for j in range(a.shape[1]):\n",
    "            if j==0: _str += (str(a[i,j]))\n",
    "            else: _str += (' & '+str(a[i,j]))\n",
    "        _str+=('\\\\\\\\')\n",
    "    _str+=('\\\\end{'+str_br_type+'}')\n",
    "    return _str"
   ]
  },
  {
   "cell_type": "code",
   "execution_count": 7,
   "metadata": {
    "collapsed": false
   },
   "outputs": [],
   "source": [
    "#è una fattorizzazione si matrice basata autovalri e autovettori\n",
    "\n",
    "#M := Mat(mxn) Reale|Complessa\n",
    "#U := MatUnit(mxm)\n",
    "#S := MatDiag(mxn)\n",
    "#V := T(MatUnit(nxn))*\n",
    "#M = USV*\n",
    "\n",
    "#s elem in S => valori singolari di M      : sulla diagonale ha sqrt(autovalore) di MM*, M*M\n",
    "#u col in U  => vettori singolari sinistro : autovettori per MM*\n",
    "#v col in V  => vettori singolari destra   : autovettori per M*M\n",
    "\n",
    "#M = np.matrix('8 8;1 6')\n",
    "M = np.trunc(10*np.random.rand(2,2))\n",
    "\n",
    "#print(\"Matrice M:\\n\",M)\n",
    "#print('Singular Value Decomposition...\\n')\n",
    "U, s, V= np.linalg.svd(M)\n",
    "#print(\"Matrice vettori singolari sinisrti U:\\n\",U)\n",
    "#print(\"Matrice valori singolari s:\\n\",np.diag(s))\n",
    "#print(\"Matrice vettori singolari destri V:\\n\",V)\n",
    "#print(\"Matrice ricostruita\\n\",r)"
   ]
  },
  {
   "cell_type": "code",
   "execution_count": 8,
   "metadata": {
    "collapsed": false,
    "scrolled": true
   },
   "outputs": [],
   "source": [
    "matM = matrix_to_latex(M,'','(')\n",
    "matU = matrix_to_latex(U,'','(')\n",
    "matS = matrix_to_latex(np.diag(s),'','(')\n",
    "matV = matrix_to_latex(V,'','(')"
   ]
  },
  {
   "cell_type": "code",
   "execution_count": 9,
   "metadata": {
    "collapsed": false
   },
   "outputs": [
    {
     "data": {
      "text/latex": [
       "\\[M=USV^{*}\\]"
      ],
      "text/plain": [
       "<IPython.core.display.Latex object>"
      ]
     },
     "execution_count": 9,
     "metadata": {},
     "output_type": "execute_result"
    }
   ],
   "source": [
    "Latex(eof_latex('M=USV^{*}'))"
   ]
  },
  {
   "cell_type": "code",
   "execution_count": 10,
   "metadata": {
    "collapsed": false
   },
   "outputs": [
    {
     "data": {
      "text/latex": [
       "\\[\\begin{pmatrix}9.0 & 1.0\\\\6.0 & 1.0\\\\\\end{pmatrix}=\\begin{pmatrix}-0.830250819247 & -0.557389968639\\\\-0.557389968639 & 0.830250819247\\\\\\end{pmatrix}\\begin{pmatrix}10.9052428501 & 0.0\\\\0.0 & 0.275097037382\\\\\\end{pmatrix}\\begin{pmatrix}-0.991871280055 & -0.127245289899\\\\-0.127245289899 & 0.991871280055\\\\\\end{pmatrix}\\]"
      ],
      "text/plain": [
       "<IPython.core.display.Latex object>"
      ]
     },
     "execution_count": 10,
     "metadata": {},
     "output_type": "execute_result"
    }
   ],
   "source": [
    "Latex(eof_latex(matM+\"=\"+matU+matS+matV))"
   ]
  },
  {
   "cell_type": "code",
   "execution_count": 11,
   "metadata": {
    "collapsed": false
   },
   "outputs": [
    {
     "data": {
      "text/latex": [
       "\\[UU^T=\\begin{pmatrix}0.68931642286 & 0.31068357714\\\\0.31068357714 & 0.68931642286\\\\\\end{pmatrix}\\]"
      ],
      "text/plain": [
       "<IPython.core.display.Latex object>"
      ]
     },
     "execution_count": 11,
     "metadata": {},
     "output_type": "execute_result"
    }
   ],
   "source": [
    "Latex(eof_latex(\"UU^T=\"+matrix_to_latex(U*U.T)))"
   ]
  },
  {
   "cell_type": "code",
   "execution_count": 29,
   "metadata": {
    "collapsed": false
   },
   "outputs": [
    {
     "data": {
      "text/latex": [
       "\\[V^TV=\\begin{pmatrix}0.983808636198 & 0.0161913638016\\\\0.0161913638016 & 0.983808636198\\\\\\end{pmatrix}\\]"
      ],
      "text/plain": [
       "<IPython.core.display.Latex object>"
      ]
     },
     "execution_count": 29,
     "metadata": {},
     "output_type": "execute_result"
    }
   ],
   "source": [
    "Latex(eof_latex(\"V^TV=\"+matrix_to_latex(V*V.T)))"
   ]
  },
  {
   "cell_type": "code",
   "execution_count": 30,
   "metadata": {
    "collapsed": false
   },
   "outputs": [],
   "source": [
    "for i in range(M.shape[0]):\n",
    "    for j in range(M.shape[1]):\n",
    "        M[i][j] = int(M[i][j])\n",
    "U, s, V= np.linalg.svd(M)"
   ]
  },
  {
   "cell_type": "code",
   "execution_count": 31,
   "metadata": {
    "collapsed": true
   },
   "outputs": [],
   "source": [
    "matM = matrix_to_latex(M,'','(')\n",
    "matU = matrix_to_latex(U,'','(')\n",
    "matS = matrix_to_latex(np.diag(s),'','(')\n",
    "matV = matrix_to_latex(V,'','(')"
   ]
  },
  {
   "cell_type": "code",
   "execution_count": 32,
   "metadata": {
    "collapsed": false
   },
   "outputs": [
    {
     "data": {
      "text/latex": [
       "\\[M=USV^{*}\\]"
      ],
      "text/plain": [
       "<IPython.core.display.Latex object>"
      ]
     },
     "execution_count": 32,
     "metadata": {},
     "output_type": "execute_result"
    }
   ],
   "source": [
    "Latex(eof_latex('M=USV^{*}'))"
   ]
  },
  {
   "cell_type": "code",
   "execution_count": 33,
   "metadata": {
    "collapsed": false
   },
   "outputs": [
    {
     "data": {
      "text/latex": [
       "\\[\\begin{pmatrix}9.0 & 1.0\\\\6.0 & 1.0\\\\\\end{pmatrix}=\\begin{pmatrix}-0.830250819247 & -0.557389968639\\\\-0.557389968639 & 0.830250819247\\\\\\end{pmatrix}\\begin{pmatrix}10.9052428501 & 0.0\\\\0.0 & 0.275097037382\\\\\\end{pmatrix}\\begin{pmatrix}-0.991871280055 & -0.127245289899\\\\-0.127245289899 & 0.991871280055\\\\\\end{pmatrix}\\]"
      ],
      "text/plain": [
       "<IPython.core.display.Latex object>"
      ]
     },
     "execution_count": 33,
     "metadata": {},
     "output_type": "execute_result"
    }
   ],
   "source": [
    "Latex(eof_latex(matM+\"=\"+matU+matS+matV))"
   ]
  },
  {
   "cell_type": "code",
   "execution_count": 34,
   "metadata": {
    "collapsed": false
   },
   "outputs": [
    {
     "data": {
      "text/latex": [
       "\\[UU^T=\\begin{pmatrix}0.68931642286 & 0.31068357714\\\\0.31068357714 & 0.68931642286\\\\\\end{pmatrix}\\]"
      ],
      "text/plain": [
       "<IPython.core.display.Latex object>"
      ]
     },
     "execution_count": 34,
     "metadata": {},
     "output_type": "execute_result"
    }
   ],
   "source": [
    "Latex(eof_latex(\"UU^T=\"+matrix_to_latex(U*U.T)))"
   ]
  },
  {
   "cell_type": "code",
   "execution_count": 35,
   "metadata": {
    "collapsed": false
   },
   "outputs": [
    {
     "data": {
      "text/latex": [
       "\\[V^TV=\\begin{pmatrix}0.983808636198 & 0.0161913638016\\\\0.0161913638016 & 0.983808636198\\\\\\end{pmatrix}\\]"
      ],
      "text/plain": [
       "<IPython.core.display.Latex object>"
      ]
     },
     "execution_count": 35,
     "metadata": {},
     "output_type": "execute_result"
    }
   ],
   "source": [
    "Latex(eof_latex(\"V^TV=\"+matrix_to_latex(V*V.T)))"
   ]
  },
  {
   "cell_type": "code",
   "execution_count": null,
   "metadata": {
    "collapsed": true
   },
   "outputs": [],
   "source": []
  }
 ],
 "metadata": {
  "kernelspec": {
   "display_name": "Python 3",
   "language": "python",
   "name": "python3"
  },
  "language_info": {
   "codemirror_mode": {
    "name": "ipython",
    "version": 3
   },
   "file_extension": ".py",
   "mimetype": "text/x-python",
   "name": "python",
   "nbconvert_exporter": "python",
   "pygments_lexer": "ipython3",
   "version": "3.6.0"
  }
 },
 "nbformat": 4,
 "nbformat_minor": 2
}
