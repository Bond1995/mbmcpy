{
 "cells": [
  {
   "cell_type": "code",
   "execution_count": 1,
   "metadata": {
    "collapsed": false
   },
   "outputs": [],
   "source": [
    "from scipy import signal\n",
    "import scipy.io.wavfile\n",
    "import numpy as np\n",
    "import os\n",
    "\n",
    "\n",
    "path_db = '05_AudioClassifier_Pdf/05_AudioClassifier_Pdf/database/'\n",
    "path_music = path_db+'music/'\n",
    "path_speech = path_db+'speech/'\n",
    "\n",
    "spg_music = 0\n",
    "spg_speech = 0\n",
    "\n",
    "\n",
    "\n",
    "def spg(path):\n",
    "    start = True\n",
    "    _spg = 0\n",
    "    for filename in os.listdir(path):\n",
    "        rate,data = scipy.io.wavfile.read(path_music+filename)\n",
    "        f, t, Sxx = signal.spectrogram(data, rate, 'hamming',512,160,512)\n",
    "        if start:\n",
    "            _spg = Sxx\n",
    "            start=False\n",
    "        else:\n",
    "            _spg = scipy.hstack((_spg,Sxx))\n",
    "    return _spg\n",
    "\n",
    "def spg_b(s,V):\n",
    "    #s è il vettore(sarebbe matrice ma diagonale) dei valori singolari\n",
    "    #V è la matrice dei vettori destri (scritti per righe ???)\n",
    "    ssum = np.sum(s)\n",
    "    approx_sum = 0\n",
    "    i = 0;\n",
    "    for e_value in s:\n",
    "        approx_sum = approx_sum + e_value\n",
    "        if approx_sum >= ssum*0.9:\n",
    "            break\n",
    "        i = i+1\n",
    "    print(\"dim(base)=\",i)\n",
    "    base = V[:,range(0,i)]\n",
    "    return base\n",
    "    "
   ]
  },
  {
   "cell_type": "code",
   "execution_count": 2,
   "metadata": {
    "collapsed": false
   },
   "outputs": [],
   "source": [
    "\n",
    "spg_music = spg(path_music)#.T\n",
    "spg_music\n",
    "spg_music = np.delete(spg_music,256,0)\n",
    "U, s, V= np.linalg.svd(spg_music)\n"
   ]
  },
  {
   "cell_type": "code",
   "execution_count": 6,
   "metadata": {
    "collapsed": false
   },
   "outputs": [
    {
     "name": "stdout",
     "output_type": "stream",
     "text": [
      "dim(base)= 68\n"
     ]
    }
   ],
   "source": [
    "b1 = spg_b(s,V)\n",
    "#print(b1.shape)\n",
    "#print(np.sum(b1*b1.T)) \n",
    "#b1 = spg_b(s,U)\n",
    "#print(b1.shape)\n",
    "#print(np.sum(b1*b1.T))\n",
    "#b1 = spg_b(s,V.T)\n",
    "#print(b1.shape)\n",
    "#print(np.sum(b1*b1.T))\n",
    "#b1 = spg_b(s,U.T)\n",
    "#print(b1.shape)\n",
    "#print(np.sum(b1*b1.T))\n",
    "#print(\"una base saranno le righe si b1,\")\n"
   ]
  },
  {
   "cell_type": "code",
   "execution_count": null,
   "metadata": {
    "collapsed": false
   },
   "outputs": [],
   "source": []
  },
  {
   "cell_type": "code",
   "execution_count": 7,
   "metadata": {
    "collapsed": false
   },
   "outputs": [
    {
     "name": "stdout",
     "output_type": "stream",
     "text": [
      "Matrice M:\n",
      " [[1 2 3 4 1]\n",
      " [1 2 4 5 1]\n",
      " [1 2 5 6 1]\n",
      " [1 2 5 6 1]\n",
      " [1 2 3 4 5]]\n",
      "Singular Value Decomposition...\n",
      "\n",
      "Matrice vettori singolari sinisrti U:\n",
      " [[ -3.49048767e-01  -6.63320797e-02   8.31833416e-01  -4.24475882e-01\n",
      "    4.04772412e-02]\n",
      " [ -4.30529599e-01  -1.68171719e-01   2.43083956e-01   8.48951765e-01\n",
      "   -8.09544824e-02]\n",
      " [ -5.12010431e-01  -2.70011358e-01  -3.45665503e-01  -2.79361852e-01\n",
      "   -6.83674997e-01]\n",
      " [ -5.12010431e-01  -2.70011358e-01  -3.45665503e-01  -1.45114030e-01\n",
      "    7.24152238e-01]\n",
      " [ -4.10487343e-01   9.06369716e-01  -9.99703925e-02  -6.85152374e-17\n",
      "   -4.84095702e-17]]\n",
      "Matrice valori singolari s:\n",
      " [[  1.58445519e+01   0.00000000e+00   0.00000000e+00   0.00000000e+00\n",
      "    0.00000000e+00]\n",
      " [  0.00000000e+00   3.93078553e+00   0.00000000e+00   0.00000000e+00\n",
      "    0.00000000e+00]\n",
      " [  0.00000000e+00   0.00000000e+00   7.06469416e-01   0.00000000e+00\n",
      "    0.00000000e+00]\n",
      " [  0.00000000e+00   0.00000000e+00   0.00000000e+00   2.55116894e-16\n",
      "    0.00000000e+00]\n",
      " [  0.00000000e+00   0.00000000e+00   0.00000000e+00   0.00000000e+00\n",
      "    9.00732809e-19]]\n",
      "Matrice vettori singolari destri V:\n",
      " [[ -1.39738036e-01  -2.79476072e-01  -5.75644618e-01  -7.15382654e-01\n",
      "   -2.43366676e-01]\n",
      " [  3.35411843e-02   6.70823686e-02  -2.16925482e-01  -1.83384297e-01\n",
      "    9.55870535e-01]\n",
      " [  4.01455417e-01   8.02910834e-01  -4.08694452e-01  -7.23903480e-03\n",
      "   -1.64572723e-01]\n",
      " [ -4.26890109e-01   4.83604975e-01   5.40319842e-01  -5.40319842e-01\n",
      "   -4.65656184e-17]\n",
      " [ -7.97462634e-01   1.97112913e-01  -4.03236808e-01   4.03236808e-01\n",
      "   -1.36819630e-19]]\n",
      "Matrice ricostruita\n",
      " [[ 1.  2.  3.  4.  1.]\n",
      " [ 1.  2.  4.  5.  1.]\n",
      " [ 1.  2.  5.  6.  1.]\n",
      " [ 1.  2.  5.  6.  1.]\n",
      " [ 1.  2.  3.  4.  5.]]\n",
      "[[  1.00000000e+00  -1.37183113e-16  -2.35007429e-16  -9.60481876e-17\n",
      "   -1.89309621e-16]\n",
      " [ -1.37183113e-16   1.00000000e+00  -1.37067235e-16  -4.44370665e-16\n",
      "    3.16745473e-17]\n",
      " [ -2.35007429e-16  -1.37067235e-16   1.00000000e+00  -1.97864696e-16\n",
      "    8.86075640e-17]\n",
      " [ -9.60481876e-17  -4.44370665e-16  -1.97864696e-16   1.00000000e+00\n",
      "   -7.30032299e-18]\n",
      " [ -1.89309621e-16   3.16745473e-17   8.86075640e-17  -7.30032299e-18\n",
      "    1.00000000e+00]]\n",
      "[[  1.00000000e+00  -1.64153134e-17  -2.87099550e-17  -9.96897827e-17\n",
      "   -1.10989005e-16]\n",
      " [ -1.64153134e-17   1.00000000e+00  -8.30707135e-17  -1.67551270e-17\n",
      "    5.53803694e-17]\n",
      " [ -2.87099550e-17  -8.30707135e-17   1.00000000e+00   7.66343063e-18\n",
      "   -1.38755361e-16]\n",
      " [ -9.96897827e-17  -1.67551270e-17   7.66343063e-18   1.00000000e+00\n",
      "    9.71445147e-17]\n",
      " [ -1.10989005e-16   5.53803694e-17  -1.38755361e-16   9.71445147e-17\n",
      "    1.00000000e+00]]\n"
     ]
    }
   ],
   "source": [
    "\n",
    "\n",
    "#cavolo qui è tutto molto piu bello la diagonale di uni"
   ]
  },
  {
   "cell_type": "code",
   "execution_count": 29,
   "metadata": {
    "collapsed": false
   },
   "outputs": [
    {
     "data": {
      "text/latex": [
       "\\[ U = \\left| \\begin{array}{ccccc}\n",
       "[[-0.34904877 -0.06633208  0.83183342 -0.42447588  0.04047724]] & \\\\\n",
       "[[-0.4305296  -0.16817172  0.24308396  0.84895176 -0.08095448]] & \\\\\n",
       "[[-0.51201043 -0.27001136 -0.3456655  -0.27936185 -0.683675  ]] & \\\\\n",
       "[[-0.51201043 -0.27001136 -0.3456655  -0.14511403  0.72415224]] & \\\\\n",
       "[[ -4.10487343e-01   9.06369716e-01  -9.99703925e-02  -6.85152374e-17\n",
       "   -4.84095702e-17]] & \\\\\n",
       "\\end{array} \\right| \\]\n"
      ],
      "text/plain": [
       "<IPython.core.display.Latex object>"
      ]
     },
     "execution_count": 29,
     "metadata": {},
     "output_type": "execute_result"
    }
   ],
   "source": [
    "from IPython.display import Latex\n",
    "\n",
    "def to_latex(A,label='A'):\n",
    "    _str = '\\[ '+label+ ' = \\\\left| \\\\begin{array}{'+ ('c'*A.shape[1])+'}\\n' \n",
    "    for row in A:\n",
    "        for elm in row:\n",
    "            _str += (str(elm))\n",
    "            _str += ' & '\n",
    "        _str += ('\\\\\\\\\\n')\n",
    "    _str += '\\\\end{array} \\\\right| \\]\\n' \n",
    "    return _str\n",
    "    \n",
    "Latex(to_latex(U,'U'))\n"
   ]
  },
  {
   "cell_type": "code",
   "execution_count": null,
   "metadata": {
    "collapsed": true
   },
   "outputs": [],
   "source": []
  }
 ],
 "metadata": {
  "kernelspec": {
   "display_name": "Python 3",
   "language": "python",
   "name": "python3"
  },
  "language_info": {
   "codemirror_mode": {
    "name": "ipython",
    "version": 3
   },
   "file_extension": ".py",
   "mimetype": "text/x-python",
   "name": "python",
   "nbconvert_exporter": "python",
   "pygments_lexer": "ipython3",
   "version": "3.6.0"
  }
 },
 "nbformat": 4,
 "nbformat_minor": 2
}
