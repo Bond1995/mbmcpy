{
 "cells": [
  {
   "cell_type": "code",
   "execution_count": 8,
   "metadata": {
    "collapsed": false
   },
   "outputs": [],
   "source": [
    "import numpy as np\n",
    "import sys\n",
    "from IPython.display import display, Math, Latex\n",
    "\n",
    "\n",
    "def matrix_to_latex(a,label='',brtype='('):\n",
    "    options = {'(' : 'pmatrix','[' : 'bmatrix','{' : 'Bmatrix','|' : 'vmatrix','||' : 'Vmatrix'}\n",
    "    str_br_type = options[brtype]\n",
    "    if(label!=''):\n",
    "        _str = '\\['+label+'='\n",
    "    else:\n",
    "        _str ='\\['\n",
    "    _str +='\\\\begin{'+str_br_type+'}'\n",
    "    for i in range(a.shape[0]):\n",
    "        for j in range(a.shape[1]):\n",
    "            _str += (' & '+str(a[i,j]))\n",
    "        _str+=('\\\\\\\\')\n",
    "    _str+=('\\\\end{'+str_br_type+'}\\]')\n",
    "    return _str\n",
    "\n",
    "#è una fattorizzazione si matrice basata autovalri e autovettori\n",
    "\n",
    "#M := Mat(mxn) Reale|Complessa\n",
    "#U := MatUnit(mxm)\n",
    "#S := MatDiag(mxn)\n",
    "#V := T(MatUnit(nxn))*\n",
    "#M = USV*\n",
    "\n",
    "#s elem in S => valori singolari di M      : sulla diagonale ha sqrt(autovalore) di MM*, M*M\n",
    "#u col in U  => vettori singolari sinistro : autovettori per MM*\n",
    "#v col in V  => vettori singolari destra   : autovettori per M*M\n",
    "\n",
    "M = np.matrix('1 2 3 4;1 2 4 5;1 2 5 6;1 2 5 6')\n",
    "#print(\"Matrice M:\\n\",M)\n",
    "\n",
    "#print('Singular Value Decomposition...\\n')\n",
    "U, s, V= np.linalg.svd(M)\n",
    "#print(\"Matrice vettori singolari sinisrti U:\\n\",U)\n",
    "#print(\"Matrice valori singolari s:\\n\",np.diag(s))\n",
    "#print(\"Matrice vettori singolari destri V:\\n\",V)\n",
    "r = U*np.diag(s)*V\n",
    "#print(\"Matrice ricostruita\\n\",r)"
   ]
  },
  {
   "cell_type": "code",
   "execution_count": 12,
   "metadata": {
    "collapsed": false
   },
   "outputs": [
    {
     "data": {
      "text/latex": [
       "\\[U=\\begin{pmatrix} & -0.377805120882 & 0.821854676215 & -0.426401432711 & 8.32667268469e-17\\\\ & -0.470778230748 & 0.226042319447 & 0.852802865422 & -9.44248880781e-17\\\\ & -0.563751340614 & -0.369770037322 & -0.213200716356 & -0.707106781187\\\\ & -0.563751340614 & -0.369770037322 & -0.213200716356 & 0.707106781187\\\\\\end{pmatrix}\\]"
      ],
      "text/plain": [
       "<IPython.core.display.Latex object>"
      ]
     },
     "execution_count": 12,
     "metadata": {},
     "output_type": "execute_result"
    }
   ],
   "source": [
    "Latex(matrix_to_latex(U,'U','('))"
   ]
  },
  {
   "cell_type": "code",
   "execution_count": 13,
   "metadata": {
    "collapsed": false
   },
   "outputs": [
    {
     "data": {
      "text/latex": [
       "\\[U=\\begin{bmatrix} & -0.377805120882 & 0.821854676215 & -0.426401432711 & 8.32667268469e-17\\\\ & -0.470778230748 & 0.226042319447 & 0.852802865422 & -9.44248880781e-17\\\\ & -0.563751340614 & -0.369770037322 & -0.213200716356 & -0.707106781187\\\\ & -0.563751340614 & -0.369770037322 & -0.213200716356 & 0.707106781187\\\\\\end{bmatrix}\\]"
      ],
      "text/plain": [
       "<IPython.core.display.Latex object>"
      ]
     },
     "execution_count": 13,
     "metadata": {},
     "output_type": "execute_result"
    }
   ],
   "source": [
    "Latex(matrix_to_latex(U,'U','['))"
   ]
  },
  {
   "cell_type": "code",
   "execution_count": 11,
   "metadata": {
    "collapsed": false
   },
   "outputs": [
    {
     "data": {
      "text/latex": [
       "\\[U=\\begin{Bmatrix} & -0.377805120882 & 0.821854676215 & -0.426401432711 & 8.32667268469e-17\\\\ & -0.470778230748 & 0.226042319447 & 0.852802865422 & -9.44248880781e-17\\\\ & -0.563751340614 & -0.369770037322 & -0.213200716356 & -0.707106781187\\\\ & -0.563751340614 & -0.369770037322 & -0.213200716356 & 0.707106781187\\\\\\end{Bmatrix}\\]"
      ],
      "text/plain": [
       "<IPython.core.display.Latex object>"
      ]
     },
     "execution_count": 11,
     "metadata": {},
     "output_type": "execute_result"
    }
   ],
   "source": [
    "Latex(matrix_to_latex(U,'U','{'))"
   ]
  },
  {
   "cell_type": "code",
   "execution_count": null,
   "metadata": {
    "collapsed": true
   },
   "outputs": [],
   "source": []
  }
 ],
 "metadata": {
  "kernelspec": {
   "display_name": "Python 3",
   "language": "python",
   "name": "python3"
  },
  "language_info": {
   "codemirror_mode": {
    "name": "ipython",
    "version": 3
   },
   "file_extension": ".py",
   "mimetype": "text/x-python",
   "name": "python",
   "nbconvert_exporter": "python",
   "pygments_lexer": "ipython3",
   "version": "3.6.0"
  }
 },
 "nbformat": 4,
 "nbformat_minor": 2
}
