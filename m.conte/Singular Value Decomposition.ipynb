{
 "cells": [
  {
   "cell_type": "code",
   "execution_count": 1,
   "metadata": {
    "collapsed": false
   },
   "outputs": [],
   "source": [
    "import numpy as np\n",
    "import sys\n",
    "import re\n",
    "\n",
    "from scipy import linalg\n",
    "from IPython.display import Latex\n",
    "\n",
    "def eof_latex(strx):\n",
    "    if not re.match(r'^\\\\\\[', strx): strx = '\\['+strx\n",
    "    if not re.match(r'\\\\\\]$', strx): strx = strx+'\\]'\n",
    "    return strx\n",
    "    \n",
    "    \n",
    "def matrix_to_latex(a,label='',brtype='('):\n",
    "    #impiego una ita a lavorare su matrici grosse\n",
    "    #attenzione attenzione io ritorno la sintassi latex della matrice\n",
    "    #ma per essere visualizzata in maniera adeguata vanno aggiunti all'inizio e alla fine \n",
    "    #\\[...]\\\n",
    "    #oppure\n",
    "    #\\\\[...]\\\\\n",
    "    options = {'(' : 'pmatrix','[' : 'bmatrix','{' : 'Bmatrix','|' : 'vmatrix','||' : 'Vmatrix'}\n",
    "    str_br_type = options[brtype]\n",
    "    if(label!=''):\n",
    "        _str = label+'='\n",
    "    else:\n",
    "        _str =''\n",
    "    _str +='\\\\begin{'+str_br_type+'}'\n",
    "    for i in range(a.shape[0]):\n",
    "        for j in range(a.shape[1]):\n",
    "            if j==0: _str += (str(a[i,j]))\n",
    "            else: _str += (' & '+str(a[i,j]))\n",
    "        _str+=('\\\\\\\\')\n",
    "    _str+=('\\\\end{'+str_br_type+'}')\n",
    "    return _str"
   ]
  },
  {
   "cell_type": "code",
   "execution_count": 2,
   "metadata": {
    "collapsed": false
   },
   "outputs": [
    {
     "data": {
      "text/latex": [
       "\\[M=USV^{*}\\]"
      ],
      "text/plain": [
       "<IPython.core.display.Latex object>"
      ]
     },
     "execution_count": 2,
     "metadata": {},
     "output_type": "execute_result"
    }
   ],
   "source": [
    "Latex(eof_latex('M=USV^{*}'))"
   ]
  },
  {
   "cell_type": "code",
   "execution_count": 3,
   "metadata": {
    "collapsed": false
   },
   "outputs": [],
   "source": [
    "#è una fattorizzazione si matrice basata autovalri e autovettori\n",
    "\n",
    "#M := Mat(mxn) Reale|Complessa\n",
    "#U := MatUnit(mxm)\n",
    "#S := MatDiag(mxn)\n",
    "#V := T(MatUnit(nxn))*\n",
    "#M = USV*\n",
    "\n",
    "#s elem in S => valori singolari di M      : sulla diagonale ha sqrt(autovalore) di MM*, M*M\n",
    "#u col in U  => vettori singolari sinistro : autovettori per MM*\n",
    "#v col in V  => vettori singolari destra   : autovettori per M*M\n",
    "\n",
    "#M = np.matrix('8 8;1 6')\n",
    "M = np.trunc(10*np.random.rand(2,2))\n",
    "\n",
    "#print(\"Matrice M:\\n\",M)\n",
    "#print('Singular Value Decomposition...\\n')\n",
    "U, s, V= linalg.svd(M)\n",
    "#print(\"Matrice vettori singolari sinisrti U:\\n\",U)\n",
    "#print(\"Matrice valori singolari s:\\n\",np.diag(s))\n",
    "#print(\"Matrice vettori singolari destri V:\\n\",V)\n",
    "#print(\"Matrice ricostruita\\n\",r)"
   ]
  },
  {
   "cell_type": "code",
   "execution_count": 4,
   "metadata": {
    "collapsed": false,
    "scrolled": true
   },
   "outputs": [],
   "source": [
    "matM = matrix_to_latex(M,'','(')\n",
    "matU = matrix_to_latex(U,'','(')\n",
    "matS = matrix_to_latex(np.diag(s),'','(')\n",
    "matV = matrix_to_latex(V,'','(')"
   ]
  },
  {
   "cell_type": "code",
   "execution_count": 5,
   "metadata": {
    "collapsed": false
   },
   "outputs": [
    {
     "data": {
      "text/latex": [
       "\\[\\begin{pmatrix}4.0 & 4.0\\\\8.0 & 2.0\\\\\\end{pmatrix}=\\begin{pmatrix}-0.542971142268 & -0.839751355262\\\\-0.839751355262 & 0.542971142268\\\\\\end{pmatrix}\\begin{pmatrix}9.68831380576 & 0.0\\\\0.0 & 2.47721125483\\\\\\end{pmatrix}\\begin{pmatrix}-0.917589540285 & -0.397529163156\\\\0.397529163156 & -0.917589540285\\\\\\end{pmatrix}\\]"
      ],
      "text/plain": [
       "<IPython.core.display.Latex object>"
      ]
     },
     "execution_count": 5,
     "metadata": {},
     "output_type": "execute_result"
    }
   ],
   "source": [
    "Latex(eof_latex(matM+\"=\"+matU+matS+matV))"
   ]
  },
  {
   "cell_type": "code",
   "execution_count": 6,
   "metadata": {
    "collapsed": false
   },
   "outputs": [
    {
     "data": {
      "text/latex": [
       "\\[UU^T=\\begin{pmatrix}-0.542971142268 & -0.839751355262\\\\-0.839751355262 & 0.542971142268\\\\\\end{pmatrix}\\begin{pmatrix}-0.542971142268 & -0.839751355262\\\\-0.839751355262 & 0.542971142268\\\\\\end{pmatrix}=\\begin{pmatrix}0.294817661336 & 0.705182338664\\\\0.705182338664 & 0.294817661336\\\\\\end{pmatrix}\\]"
      ],
      "text/plain": [
       "<IPython.core.display.Latex object>"
      ]
     },
     "execution_count": 6,
     "metadata": {},
     "output_type": "execute_result"
    }
   ],
   "source": [
    "Latex(eof_latex(\"UU^T=\"+matrix_to_latex(U)+matrix_to_latex(U.T)+\"=\"+matrix_to_latex(U*U.T)))"
   ]
  },
  {
   "cell_type": "code",
   "execution_count": 7,
   "metadata": {
    "collapsed": false
   },
   "outputs": [
    {
     "data": {
      "text/latex": [
       "\\[VV^T=\\begin{pmatrix}-0.906073025881 & -0.423121344026\\\\0.423121344026 & -0.906073025881\\\\\\end{pmatrix}\\begin{pmatrix}-0.906073025881 & 0.423121344026\\\\-0.423121344026 & -0.906073025881\\\\\\end{pmatrix}=\\begin{pmatrix}0.82096832823 & -0.17903167177\\\\-0.17903167177 & 0.82096832823\\\\\\end{pmatrix}\\]"
      ],
      "text/plain": [
       "<IPython.core.display.Latex object>"
      ]
     },
     "execution_count": 7,
     "metadata": {},
     "output_type": "execute_result"
    }
   ],
   "source": [
    "Latex(eof_latex(\"VV^T=\"+matrix_to_latex(V)+matrix_to_latex(V.T)+\"=\"+matrix_to_latex(V*V.T)))"
   ]
  },
  {
   "cell_type": "code",
   "execution_count": 31,
   "metadata": {
    "collapsed": false
   },
   "outputs": [],
   "source": [
    "#se la metto io a manina funziona tutto come mi aspetto\n",
    "#M = M.astype(int)\n",
    "M = np.matrix('1 2;3 4')\n",
    "#for i in range(M.shape[0]):\n",
    "#    for j in range(M.shape[1]):\n",
    "#        M[i][j] = int(M[i][j])\n",
    "U, s, V= linalg.svd(M)"
   ]
  },
  {
   "cell_type": "code",
   "execution_count": 32,
   "metadata": {
    "collapsed": true
   },
   "outputs": [],
   "source": [
    "matM = matrix_to_latex(M,'','(')\n",
    "matU = matrix_to_latex(U,'','(')\n",
    "matS = matrix_to_latex(np.diag(s),'','(')\n",
    "matV = matrix_to_latex(V,'','(')"
   ]
  },
  {
   "cell_type": "code",
   "execution_count": 33,
   "metadata": {
    "collapsed": false
   },
   "outputs": [
    {
     "data": {
      "text/latex": [
       "\\[M=USV^{*}\\]"
      ],
      "text/plain": [
       "<IPython.core.display.Latex object>"
      ]
     },
     "execution_count": 33,
     "metadata": {},
     "output_type": "execute_result"
    }
   ],
   "source": [
    "Latex(eof_latex('M=USV^{*}'))"
   ]
  },
  {
   "cell_type": "code",
   "execution_count": 34,
   "metadata": {
    "collapsed": false
   },
   "outputs": [
    {
     "data": {
      "text/latex": [
       "\\[\\begin{pmatrix}1 & 2\\\\3 & 4\\\\\\end{pmatrix}=\\begin{pmatrix}-0.404553584834 & -0.914514295677\\\\-0.914514295677 & 0.404553584834\\\\\\end{pmatrix}\\begin{pmatrix}5.46498570422 & 0.0\\\\0.0 & 0.365966190626\\\\\\end{pmatrix}\\begin{pmatrix}-0.576048436766 & -0.81741556047\\\\0.81741556047 & -0.576048436766\\\\\\end{pmatrix}\\]"
      ],
      "text/plain": [
       "<IPython.core.display.Latex object>"
      ]
     },
     "execution_count": 34,
     "metadata": {},
     "output_type": "execute_result"
    }
   ],
   "source": [
    "Latex(eof_latex(matM+\"=\"+matU+matS+matV))"
   ]
  },
  {
   "cell_type": "code",
   "execution_count": 35,
   "metadata": {
    "collapsed": false
   },
   "outputs": [
    {
     "data": {
      "text/latex": [
       "\\[UU^T=\\begin{pmatrix}-0.404553584834 & -0.914514295677\\\\-0.914514295677 & 0.404553584834\\\\\\end{pmatrix}\\begin{pmatrix}-0.404553584834 & -0.914514295677\\\\-0.914514295677 & 0.404553584834\\\\\\end{pmatrix}=\\begin{pmatrix}0.163663603002 & 0.836336396998\\\\0.836336396998 & 0.163663603002\\\\\\end{pmatrix}\\]"
      ],
      "text/plain": [
       "<IPython.core.display.Latex object>"
      ]
     },
     "execution_count": 35,
     "metadata": {},
     "output_type": "execute_result"
    }
   ],
   "source": [
    "Latex(eof_latex(\"UU^T=\"+matrix_to_latex(U)+matrix_to_latex(U.T)+\"=\"+matrix_to_latex(U*U.T)))"
   ]
  },
  {
   "cell_type": "code",
   "execution_count": 36,
   "metadata": {
    "collapsed": false
   },
   "outputs": [
    {
     "data": {
      "text/latex": [
       "\\[V{V^T}^*=\\begin{pmatrix}-0.576048436766 & -0.81741556047\\\\0.81741556047 & -0.576048436766\\\\\\end{pmatrix}\\begin{pmatrix}-0.576048436766 & 0.81741556047\\\\-0.81741556047 & -0.576048436766\\\\\\end{pmatrix}=\\begin{pmatrix}0.331831801501 & -0.668168198499\\\\-0.668168198499 & 0.331831801501\\\\\\end{pmatrix}\\]"
      ],
      "text/plain": [
       "<IPython.core.display.Latex object>"
      ]
     },
     "execution_count": 36,
     "metadata": {},
     "output_type": "execute_result"
    }
   ],
   "source": [
    "Latex(eof_latex(\"V{V^T}^*=\"+matrix_to_latex(V)+matrix_to_latex(V.conj().T)+\"=\"+matrix_to_latex(V*V.conj().T)))"
   ]
  },
  {
   "cell_type": "code",
   "execution_count": null,
   "metadata": {
    "collapsed": true
   },
   "outputs": [],
   "source": []
  },
  {
   "cell_type": "code",
   "execution_count": null,
   "metadata": {
    "collapsed": true
   },
   "outputs": [],
   "source": []
  },
  {
   "cell_type": "code",
   "execution_count": null,
   "metadata": {
    "collapsed": true
   },
   "outputs": [],
   "source": []
  }
 ],
 "metadata": {
  "kernelspec": {
   "display_name": "Python 3",
   "language": "python",
   "name": "python3"
  },
  "language_info": {
   "codemirror_mode": {
    "name": "ipython",
    "version": 3
   },
   "file_extension": ".py",
   "mimetype": "text/x-python",
   "name": "python",
   "nbconvert_exporter": "python",
   "pygments_lexer": "ipython3",
   "version": "3.6.0"
  }
 },
 "nbformat": 4,
 "nbformat_minor": 2
}
