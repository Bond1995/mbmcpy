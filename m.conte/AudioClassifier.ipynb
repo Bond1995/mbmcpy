{
 "cells": [
  {
   "cell_type": "code",
   "execution_count": 101,
   "metadata": {
    "collapsed": false
   },
   "outputs": [],
   "source": [
    "from scipy import signal, linalg\n",
    "from scipy import linalg\n",
    "import scipy.io.wavfile\n",
    "import numpy as np\n",
    "import os\n",
    "\n",
    "\n",
    "path_db = '05_AudioClassifier_Pdf/05_AudioClassifier_Pdf/database/'\n",
    "path_music = path_db+'music/'\n",
    "path_speech = path_db+'speech/'\n",
    "path_unknowns = path_db.replace('database/','')+'unknownSounds/'\n",
    "\n",
    "spg_music = 0\n",
    "spg_speech = 0\n",
    "\n",
    "\n",
    "def load_audio(path):\n",
    "    audio_list = []#in py questa è una semplice lista vuota\n",
    "    for filename in os.listdir(path):\n",
    "        audio_list.append((scipy.io.wavfile.read(path+filename)[0],scipy.io.wavfile.read(path+filename)[1],filename))\n",
    "    return audio_list\n",
    "    \n",
    "def spg(path):\n",
    "    start = True\n",
    "    _spg = 0\n",
    "    for filename in os.listdir(path):\n",
    "        rate,data = scipy.io.wavfile.read(path+filename)\n",
    "        f, t, Sxx = signal.spectrogram(data, rate, 'hamming',512,160,512)\n",
    "        if start:\n",
    "            _spg = Sxx\n",
    "            start=False\n",
    "        else:\n",
    "            _spg = scipy.hstack((_spg,Sxx))\n",
    "    return _spg\n",
    "\n",
    "def spg_b(s,V):\n",
    "    #s è il vettore(sarebbe matrice ma diagonale) dei valori singolari\n",
    "    #V è la matrice dei vettori destri (la funzione vuole V.T=>autovettori per colonna)\n",
    "    ssum = np.sum(s)\n",
    "    approx_sum = 0\n",
    "    i = 0;\n",
    "    for e_value in s:\n",
    "        approx_sum = approx_sum + e_value\n",
    "        if approx_sum >= ssum*0.9:\n",
    "            break\n",
    "        i = i+1\n",
    "    base = V[:,range(0,i)]\n",
    "    return base\n",
    "    "
   ]
  },
  {
   "cell_type": "code",
   "execution_count": 102,
   "metadata": {
    "collapsed": false
   },
   "outputs": [
    {
     "name": "stdout",
     "output_type": "stream",
     "text": [
      "spg_music shape:  (9080, 257)\n",
      "b_music shape (257, 68)\n",
      "norm_music shape (68, 68)\n"
     ]
    }
   ],
   "source": [
    "\n",
    "spg_music = spg(path_music).T\n",
    "print(\"spg_music shape: \",spg_music.shape)\n",
    "spg_music = np.delete(spg_music,256,0)\n",
    "U, s, V= np.linalg.svd(spg_music)\n",
    "b_music = spg_b(s,V)\n",
    "print(\"b_music shape\",b_music.shape)\n",
    "norm_music = np.dot(b_music.conj().T,b_music)\n",
    "print(\"norm_music shape\",norm_music.shape)\n"
   ]
  },
  {
   "cell_type": "code",
   "execution_count": 103,
   "metadata": {
    "collapsed": false
   },
   "outputs": [
    {
     "name": "stdout",
     "output_type": "stream",
     "text": [
      "spg_speech shape:  (2980, 257)\n",
      "b_speech shape (257, 39)\n",
      "norm_speech shape (39, 39)\n"
     ]
    }
   ],
   "source": [
    "\n",
    "spg_speech = spg(path_speech).T\n",
    "print(\"spg_speech shape: \",spg_speech.shape)\n",
    "spg_speech = np.delete(spg_speech,256,0)\n",
    "U, s, V= np.linalg.svd(spg_speech)\n",
    "b_speech = spg_b(s,V)\n",
    "print(\"b_speech shape\",b_speech.shape)\n",
    "norm_speech = np.dot(b_speech.conj().T,b_speech)\n",
    "print(\"norm_speech shape\",norm_speech.shape)"
   ]
  },
  {
   "cell_type": "code",
   "execution_count": 104,
   "metadata": {
    "collapsed": false
   },
   "outputs": [
    {
     "data": {
      "text/plain": [
       "[(16000,\n",
       "  array([ 1520,  1164,  1560, ...,  -232,  -940, -1979], dtype=int16),\n",
       "  '004_BobDylan-OxfordTown-10s-B.wav'),\n",
       " (16000, array([17, 24, 15, ...,  5,  7, -1], dtype=int16), '007si1079.wav'),\n",
       " (16000, array([1, 2, 2, ..., 1, 0, 5], dtype=int16), '007si1271.wav'),\n",
       " (16000,\n",
       "  array([-1617, -1563, -1473, ..., -3358, -3364, -2902], dtype=int16),\n",
       "  '010_CiboMatto-Moonchild-10s-A.wav'),\n",
       " (16000, array([2, 3, 2, ..., 3, 0, 0], dtype=int16), '014si1291.wav'),\n",
       " (16000, array([2, 3, 3, ..., 6, 6, 6], dtype=int16), '016si1621.wav'),\n",
       " (16000,\n",
       "  array([ 1424,  6801,  8511, ..., -2669,  1359, -1264], dtype=int16),\n",
       "  '019_Nirvana-Downer-10s-B.wav'),\n",
       " (16000,\n",
       "  array([-2609, -2725, -2910, ...,  3971,  4190,  4345], dtype=int16),\n",
       "  '024_JimiHendrix-WaitUntilTomorrow-10s-A.wav')]"
      ]
     },
     "execution_count": 104,
     "metadata": {},
     "output_type": "execute_result"
    }
   ],
   "source": [
    "unknowns = load_audio(path_unknowns)\n",
    "unknowns"
   ]
  },
  {
   "cell_type": "code",
   "execution_count": 105,
   "metadata": {
    "collapsed": false
   },
   "outputs": [
    {
     "name": "stdout",
     "output_type": "stream",
     "text": [
      "Item:  004_BobDylan-OxfordTown-10s-B.wav\n",
      "\tOnSpeech:  (454, 257) X (257, 39) = (454, 39)\n",
      "\tOnMusic:  (454, 257) X (257, 68) = (454, 68)\n",
      "\terr on music 429881.0\n",
      "\terr on speech 1.33751e+06\n",
      "\t\t\t\tMUSICA\n",
      "Item:  007si1079.wav\n",
      "\tOnSpeech:  (210, 257) X (257, 39) = (210, 39)\n",
      "\tOnMusic:  (210, 257) X (257, 68) = (210, 68)\n",
      "\terr on music 14765.2\n",
      "\terr on speech 44889.5\n",
      "\t\t\t\tMUSICA\n",
      "Item:  007si1271.wav\n",
      "\tOnSpeech:  (220, 257) X (257, 39) = (220, 39)\n",
      "\tOnMusic:  (220, 257) X (257, 68) = (220, 68)\n",
      "\terr on music 8610.82\n",
      "\terr on speech 22084.4\n",
      "\t\t\t\tMUSICA\n",
      "Item:  010_CiboMatto-Moonchild-10s-A.wav\n",
      "\tOnSpeech:  (454, 257) X (257, 39) = (454, 39)\n",
      "\tOnMusic:  (454, 257) X (257, 68) = (454, 68)\n",
      "\terr on music 379715.0\n",
      "\terr on speech 1.53214e+06\n",
      "\t\t\t\tMUSICA\n",
      "Item:  014si1291.wav\n",
      "\tOnSpeech:  (214, 257) X (257, 39) = (214, 39)\n",
      "\tOnMusic:  (214, 257) X (257, 68) = (214, 68)\n",
      "\terr on music 52249.8\n",
      "\terr on speech 115502.0\n",
      "\t\t\t\tMUSICA\n",
      "Item:  016si1621.wav\n",
      "\tOnSpeech:  (71, 257) X (257, 39) = (71, 39)\n",
      "\tOnMusic:  (71, 257) X (257, 68) = (71, 68)\n",
      "\terr on music 8764.64\n",
      "\terr on speech 30160.9\n",
      "\t\t\t\tMUSICA\n",
      "Item:  019_Nirvana-Downer-10s-B.wav\n",
      "\tOnSpeech:  (454, 257) X (257, 39) = (454, 39)\n",
      "\tOnMusic:  (454, 257) X (257, 68) = (454, 68)\n",
      "\terr on music 806927.0\n",
      "\terr on speech 2.08824e+06\n",
      "\t\t\t\tMUSICA\n",
      "Item:  024_JimiHendrix-WaitUntilTomorrow-10s-A.wav\n",
      "\tOnSpeech:  (454, 257) X (257, 39) = (454, 39)\n",
      "\tOnMusic:  (454, 257) X (257, 68) = (454, 68)\n",
      "\terr on music 320612.0\n",
      "\terr on speech 1.1971e+06\n",
      "\t\t\t\tMUSICA\n"
     ]
    }
   ],
   "source": [
    "for rate,data,filename in unknowns:\n",
    "    f, t, Sxx = signal.spectrogram(data , rate, 'hamming',512,160,512)\n",
    "    spg_unk = Sxx\n",
    "    print('Item: ',filename)\n",
    "    print('\\tOnSpeech: ',Sxx.T.shape,'X',b_speech.shape,'=',np.dot(Sxx.T,b_speech).shape) \n",
    "    print('\\tOnMusic: ',Sxx.T.shape,'X',b_music.shape,'=',np.dot(Sxx.T,b_music).shape) \n",
    "    unk_on_music = np.dot(Sxx.T,b_music)\n",
    "    unk_on_speech = np.dot(Sxx.T,b_speech)\n",
    "    \n",
    "    coeff_on_music = np.dot(np.linalg.inv(norm_music),unk_on_music.T)\n",
    "    spg_ric_on_music = np.dot(coeff_on_music.T,b_music.T).T\n",
    "    error_on_music = np.linalg.norm(spg_unk-spg_ric_on_music)\n",
    "    \n",
    "    coeff_on_speech = np.dot(np.linalg.inv(norm_speech),unk_on_speech.T)\n",
    "    spg_ric_on_speech = np.dot(coeff_on_speech.T,b_speech.T).T\n",
    "    error_on_speech = np.linalg.norm(spg_unk-spg_ric_on_speech)\n",
    "    \n",
    "    print('\\terr on music',error_on_music)\n",
    "    print('\\terr on speech',error_on_speech)\n",
    "    if error_on_music<error_on_speech: print('\\t\\t\\t\\tMUSICA')\n",
    "    else: print('\\t\\t\\t\\tPARLATO')\n",
    "    \n",
    "#NON FUNZIONA PER NULLA"
   ]
  },
  {
   "cell_type": "code",
   "execution_count": 112,
   "metadata": {
    "collapsed": false
   },
   "outputs": [],
   "source": [
    "music = load_audio(path_music)\n",
    "speech = load_audio(path_speech)"
   ]
  },
  {
   "cell_type": "code",
   "execution_count": 115,
   "metadata": {
    "collapsed": false
   },
   "outputs": [
    {
     "name": "stdout",
     "output_type": "stream",
     "text": [
      "mean speech 16.9067526221\n",
      "mean music 1844.90585938\n"
     ]
    }
   ],
   "source": [
    "media = 0\n",
    "i = 0\n",
    "for rate,data,filename in music:\n",
    "    i+=1\n",
    "    f, t, Sxx = signal.spectrogram(data , rate, 'hamming',512,160,512)\n",
    "    spg_unk = Sxx\n",
    "    unk_on_music = np.dot(Sxx.T,b_music)\n",
    "    \n",
    "    coeff_on_music = np.dot(np.linalg.inv(norm_music),unk_on_music.T)\n",
    "    spg_ric_on_music = np.dot(coeff_on_music.T,b_music.T).T\n",
    "    \n",
    "    media += np.mean(np.mean(spg_ric_on_music,0),0)\n",
    "media_m = media/i\n",
    "\n",
    "\n",
    "media = 0\n",
    "i = 0\n",
    "for rate,data,filename in speech:\n",
    "    i+=1\n",
    "    f, t, Sxx = signal.spectrogram(data , rate, 'hamming',512,160,512)\n",
    "    spg_unk = Sxx\n",
    "    unk_on_speech = np.dot(Sxx.T,b_speech)\n",
    "    \n",
    "    coeff_on_speech = np.dot(np.linalg.inv(norm_speech),unk_on_speech.T)\n",
    "    spg_ric_on_speech = np.dot(coeff_on_speech.T,b_speech.T).T\n",
    "    \n",
    "    media += np.mean(np.mean(spg_ric_on_speech,0),0)\n",
    "    media_s = media/i\n",
    "    \n",
    "print('mean speech',media_s)\n",
    "print('mean music',media_m)\n"
   ]
  },
  {
   "cell_type": "code",
   "execution_count": 120,
   "metadata": {
    "collapsed": false,
    "scrolled": true
   },
   "outputs": [
    {
     "name": "stdout",
     "output_type": "stream",
     "text": [
      "Item:  004_BobDylan-OxfordTown-10s-B.wav\n",
      "\tOnSpeech:  (454, 257) X (257, 39) = (454, 39)\n",
      "\tOnMusic:  (454, 257) X (257, 68) = (454, 68)\n",
      "\terr on music 879.857275391\n",
      "\terr on speech 820.856308901\n",
      "\t\t\t\tPARLATO\n",
      "Item:  007si1079.wav\n",
      "\tOnSpeech:  (210, 257) X (257, 39) = (210, 39)\n",
      "\tOnMusic:  (210, 257) X (257, 68) = (210, 68)\n",
      "\terr on music 1814.19561615\n",
      "\terr on speech 6.74200149775\n",
      "\t\t\t\tPARLATO\n",
      "Item:  007si1271.wav\n",
      "\tOnSpeech:  (220, 257) X (257, 39) = (220, 39)\n",
      "\tOnMusic:  (220, 257) X (257, 68) = (220, 68)\n",
      "\terr on music 1835.01966419\n",
      "\terr on speech 8.84447387457\n",
      "\t\t\t\tPARLATO\n",
      "Item:  010_CiboMatto-Moonchild-10s-A.wav\n",
      "\tOnSpeech:  (454, 257) X (257, 39) = (454, 39)\n",
      "\tOnMusic:  (454, 257) X (257, 68) = (454, 68)\n",
      "\terr on music 210.910791016\n",
      "\terr on speech 2020.96910187\n",
      "\t\t\t\tMUSICA\n",
      "Item:  014si1291.wav\n",
      "\tOnSpeech:  (214, 257) X (257, 39) = (214, 39)\n",
      "\tOnMusic:  (214, 257) X (257, 68) = (214, 68)\n",
      "\terr on music 1790.34104385\n",
      "\terr on speech 23.933064425\n",
      "\t\t\t\tPARLATO\n",
      "Item:  016si1621.wav\n",
      "\tOnSpeech:  (71, 257) X (257, 39) = (71, 39)\n",
      "\tOnMusic:  (71, 257) X (257, 68) = (71, 68)\n",
      "\terr on music 1821.601828\n",
      "\terr on speech 0.480967485905\n",
      "\t\t\t\tPARLATO\n",
      "Item:  019_Nirvana-Downer-10s-B.wav\n",
      "\tOnSpeech:  (454, 257) X (257, 39) = (454, 39)\n",
      "\tOnMusic:  (454, 257) X (257, 68) = (454, 68)\n",
      "\terr on music 1354.18666992\n",
      "\terr on speech 2781.01512238\n",
      "\t\t\t\tMUSICA\n",
      "Item:  024_JimiHendrix-WaitUntilTomorrow-10s-A.wav\n",
      "\tOnSpeech:  (454, 257) X (257, 39) = (454, 39)\n",
      "\tOnMusic:  (454, 257) X (257, 68) = (454, 68)\n",
      "\terr on music 140.321923828\n",
      "\terr on speech 1951.76341339\n",
      "\t\t\t\tMUSICA\n"
     ]
    }
   ],
   "source": [
    "for rate,data,filename in unknowns:\n",
    "    f, t, Sxx = signal.spectrogram(data , rate, 'hamming',512,160,512)\n",
    "    spg_unk = Sxx\n",
    "    print('Item: ',filename)\n",
    "    print('\\tOnSpeech: ',Sxx.T.shape,'X',b_speech.shape,'=',np.dot(Sxx.T,b_speech).shape) \n",
    "    print('\\tOnMusic: ',Sxx.T.shape,'X',b_music.shape,'=',np.dot(Sxx.T,b_music).shape) \n",
    "    unk_on_music = np.dot(Sxx.T,b_music)\n",
    "    unk_on_speech = np.dot(Sxx.T,b_speech)\n",
    "    \n",
    "    coeff_on_music = np.dot(np.linalg.inv(norm_music),unk_on_music.T)\n",
    "    spg_ric_on_music = np.dot(coeff_on_music.T,b_music.T).T\n",
    "    mean_on_m = np.mean(np.mean(spg_ric_on_music,0),0)\n",
    "    coeff_on_speech = np.dot(np.linalg.inv(norm_speech),unk_on_speech.T)\n",
    "    spg_ric_on_speech = np.dot(coeff_on_speech.T,b_speech.T).T\n",
    "    mean_on_s = np.mean(np.mean(spg_ric_on_speech,0),0)\n",
    "    \n",
    "    err_on_music = np.abs(media_m-mean_on_m)\n",
    "    err_on_speech = np.abs(media_s-mean_on_s)\n",
    "    print('\\terr on music',err_on_music)\n",
    "    print('\\terr on speech',err_on_speech)\n",
    "    if err_on_music<err_on_speech: print('\\t\\t\\t\\tMUSICA')\n",
    "    else: print('\\t\\t\\t\\tPARLATO')\n",
    "    \n",
    "#QUASI FUNZIONA"
   ]
  },
  {
   "cell_type": "code",
   "execution_count": null,
   "metadata": {
    "collapsed": true
   },
   "outputs": [],
   "source": []
  },
  {
   "cell_type": "code",
   "execution_count": null,
   "metadata": {
    "collapsed": true
   },
   "outputs": [],
   "source": []
  }
 ],
 "metadata": {
  "kernelspec": {
   "display_name": "Python 3",
   "language": "python",
   "name": "python3"
  },
  "language_info": {
   "codemirror_mode": {
    "name": "ipython",
    "version": 3
   },
   "file_extension": ".py",
   "mimetype": "text/x-python",
   "name": "python",
   "nbconvert_exporter": "python",
   "pygments_lexer": "ipython3",
   "version": "3.6.0"
  }
 },
 "nbformat": 4,
 "nbformat_minor": 2
}
