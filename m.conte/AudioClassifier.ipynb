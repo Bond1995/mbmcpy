{
 "cells": [
  {
   "cell_type": "code",
   "execution_count": 66,
   "metadata": {
    "collapsed": false
   },
   "outputs": [],
   "source": [
    "from scipy import signal\n",
    "from scipy import linalg\n",
    "import scipy.io.wavfile\n",
    "import numpy as np\n",
    "import os\n",
    "\n",
    "\n",
    "path_db = '05_AudioClassifier_Pdf/05_AudioClassifier_Pdf/database/'\n",
    "path_music = path_db+'music/'\n",
    "path_speech = path_db+'speech/'\n",
    "path_unknowns = path_db.replace('database/','')+'unknownSounds/'\n",
    "\n",
    "spg_music = 0\n",
    "spg_speech = 0\n",
    "\n",
    "\n",
    "def load_audio(path):\n",
    "    audio_list = []#in py questa è una semplice lista vuota\n",
    "    for filename in os.listdir(path):\n",
    "        audio_list.append(scipy.io.wavfile.read(path+filename))\n",
    "    return audio_list\n",
    "    \n",
    "def spg(path):\n",
    "    start = True\n",
    "    _spg = 0\n",
    "    for filename in os.listdir(path):\n",
    "        rate,data = scipy.io.wavfile.read(path+filename)\n",
    "        f, t, Sxx = signal.spectrogram(data, rate, 'hamming',512,160,512)\n",
    "        if start:\n",
    "            _spg = Sxx\n",
    "            start=False\n",
    "        else:\n",
    "            _spg = scipy.hstack((_spg,Sxx))\n",
    "    return _spg\n",
    "\n",
    "def spg_b(s,V):\n",
    "    #s è il vettore(sarebbe matrice ma diagonale) dei valori singolari\n",
    "    #V è la matrice dei vettori destri (la funzione vuole V.T=>autovettori per colonna)\n",
    "    ssum = np.sum(s)\n",
    "    approx_sum = 0\n",
    "    i = 0;\n",
    "    for e_value in s:\n",
    "        approx_sum = approx_sum + e_value\n",
    "        if approx_sum >= ssum*0.9:\n",
    "            break\n",
    "        i = i+1\n",
    "    base = V[:,range(0,i)]\n",
    "    return base\n",
    "    "
   ]
  },
  {
   "cell_type": "code",
   "execution_count": 67,
   "metadata": {
    "collapsed": false
   },
   "outputs": [
    {
     "name": "stdout",
     "output_type": "stream",
     "text": [
      "(9080, 257)\n"
     ]
    }
   ],
   "source": [
    "\n",
    "spg_music = spg(path_music).T\n",
    "#traspose spg means that the columns of V are eigenvector for M*M.H(oppure M.H*M)\n",
    "print(spg_music.shape)\n",
    "spg_music = np.delete(spg_music,256,0)\n",
    "U, s, V= np.linalg.svd(spg_music)\n",
    "b_music = spg_b(s,V)\n",
    "#print(b_music.shape)\n",
    "#print(np.linalg.matrix_rank(b_music))\n"
   ]
  },
  {
   "cell_type": "code",
   "execution_count": 68,
   "metadata": {
    "collapsed": false
   },
   "outputs": [
    {
     "name": "stdout",
     "output_type": "stream",
     "text": [
      "(2980, 257)\n"
     ]
    }
   ],
   "source": [
    "spg_speech = spg(path_speech).T\n",
    "print(spg_speech.shape)\n",
    "spg_speech = np.delete(spg_speech,256,0)\n",
    "U, s, V= np.linalg.svd(spg_speech)\n",
    "b_speech = spg_b(s,V)\n",
    "#print(b_speech.shape)\n",
    "#print(np.linalg.matrix_rank(b_speech))"
   ]
  },
  {
   "cell_type": "code",
   "execution_count": 69,
   "metadata": {
    "collapsed": false
   },
   "outputs": [
    {
     "data": {
      "text/plain": [
       "[(16000, array([ 1520,  1164,  1560, ...,  -232,  -940, -1979], dtype=int16)),\n",
       " (16000, array([17, 24, 15, ...,  5,  7, -1], dtype=int16)),\n",
       " (16000, array([1, 2, 2, ..., 1, 0, 5], dtype=int16)),\n",
       " (16000, array([-1617, -1563, -1473, ..., -3358, -3364, -2902], dtype=int16)),\n",
       " (16000, array([2, 3, 2, ..., 3, 0, 0], dtype=int16)),\n",
       " (16000, array([2, 3, 3, ..., 6, 6, 6], dtype=int16)),\n",
       " (16000, array([ 1424,  6801,  8511, ..., -2669,  1359, -1264], dtype=int16)),\n",
       " (16000, array([-2609, -2725, -2910, ...,  3971,  4190,  4345], dtype=int16))]"
      ]
     },
     "execution_count": 69,
     "metadata": {},
     "output_type": "execute_result"
    }
   ],
   "source": [
    "unknowns = load_audio(path_unknowns)\n",
    "unknowns"
   ]
  },
  {
   "cell_type": "code",
   "execution_count": 70,
   "metadata": {
    "collapsed": false
   },
   "outputs": [
    {
     "name": "stdout",
     "output_type": "stream",
     "text": [
      "(2979, 257) * (257, 454) = (2979, 454)\n",
      "(9079, 257) * (257, 454) = (9079, 454)\n",
      "NormaSpeech:  2.11142e+13 \n",
      "NormMusic:  5.22425e+11\n",
      "(2979, 257) * (257, 210) = (2979, 210)\n",
      "(9079, 257) * (257, 210) = (9079, 210)\n",
      "NormaSpeech:  3.13934e+11 \n",
      "NormMusic:  1.86522e+10\n",
      "(2979, 257) * (257, 220) = (2979, 220)\n",
      "(9079, 257) * (257, 220) = (9079, 220)\n",
      "NormaSpeech:  1.28197e+11 \n",
      "NormMusic:  7.53015e+09\n",
      "(2979, 257) * (257, 454) = (2979, 454)\n",
      "(9079, 257) * (257, 454) = (9079, 454)\n",
      "NormaSpeech:  1.52091e+14 \n",
      "NormMusic:  2.43101e+11\n",
      "(2979, 257) * (257, 214) = (2979, 214)\n",
      "(9079, 257) * (257, 214) = (9079, 214)\n",
      "NormaSpeech:  7.14153e+11 \n",
      "NormMusic:  3.91266e+10\n",
      "(2979, 257) * (257, 71) = (2979, 71)\n",
      "(9079, 257) * (257, 71) = (9079, 71)\n",
      "NormaSpeech:  1.1907e+11 \n",
      "NormMusic:  6.68942e+09\n",
      "(2979, 257) * (257, 454) = (2979, 454)\n",
      "(9079, 257) * (257, 454) = (9079, 454)\n",
      "NormaSpeech:  1.31176e+14 \n",
      "NormMusic:  2.95085e+11\n",
      "(2979, 257) * (257, 454) = (2979, 454)\n",
      "(9079, 257) * (257, 454) = (9079, 454)\n",
      "NormaSpeech:  1.13298e+14 \n",
      "NormMusic:  1.83218e+11\n"
     ]
    }
   ],
   "source": [
    "for rate,data in unknowns:\n",
    "    f, t, Sxx = signal.spectrogram(data , rate, 'hamming',512,160,512)\n",
    "    spg_unk = Sxx\n",
    "    print(spg_speech.shape,\"*\",Sxx.shape,'=',np.dot(spg_speech,Sxx).shape) \n",
    "    print(spg_music.shape,\"*\",Sxx.shape,'=',np.dot(spg_music,Sxx).shape) \n",
    "    unk_on_music = np.dot(spg_speech,Sxx)\n",
    "    unk_on_speech = np.dot(spg_music,Sxx)\n",
    "    \n",
    "    #posso fare i prodotto per fortuna\n",
    "    # ma il prodotto * si arrabia \n",
    "    # e ho dovuto usaer np.dot() ... For 2-D arrays it is equivalent to matrix multiplication\n",
    "    #dato_music = np.linalg.norm(unk_on_music)\n",
    "    #dato_speech = np.linalg.norm(unk_on_speech)\n",
    "    #print('NormaSpeech: ',dato_speech,'\\nNormMusic: ',dato_music)\n",
    "    "
   ]
  },
  {
   "cell_type": "code",
   "execution_count": null,
   "metadata": {
    "collapsed": true
   },
   "outputs": [],
   "source": []
  },
  {
   "cell_type": "code",
   "execution_count": null,
   "metadata": {
    "collapsed": true
   },
   "outputs": [],
   "source": []
  }
 ],
 "metadata": {
  "kernelspec": {
   "display_name": "Python 3",
   "language": "python",
   "name": "python3"
  },
  "language_info": {
   "codemirror_mode": {
    "name": "ipython",
    "version": 3
   },
   "file_extension": ".py",
   "mimetype": "text/x-python",
   "name": "python",
   "nbconvert_exporter": "python",
   "pygments_lexer": "ipython3",
   "version": "3.6.0"
  }
 },
 "nbformat": 4,
 "nbformat_minor": 2
}
