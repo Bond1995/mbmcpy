{
 "cells": [
  {
   "cell_type": "code",
   "execution_count": null,
   "metadata": {
    "collapsed": false
   },
   "outputs": [
    {
     "name": "stdout",
     "output_type": "stream",
     "text": [
      "C:\\Users\\Mauro\\PycharmProjects\\mbmcpym.conte/05_AudioClassifier_Pdf/05_AudioClassifier_Pdf/database/music/\n"
     ]
    }
   ],
   "source": [
    "from scipy import signal, linalg\n",
    "import scipy.io.wavfile\n",
    "import numpy as np\n",
    "import os\n",
    "import math\n",
    "import sys\n",
    "\n",
    "path_db = 'm.conte/05_AudioClassifier_Pdf/05_AudioClassifier_Pdf/database/'\n",
    "path_music = path_db + 'music/'\n",
    "path_speech = path_db + 'speech/'\n",
    "path_unknowns = path_db.replace('database/', '') + 'unknownSounds/'\n",
    "print(os.getcwd() + path_music)\n",
    "\n",
    "spg_music = 0\n",
    "spg_speech = 0\n",
    "\n",
    "\n",
    "def load_audio(path):\n",
    "    audio_list = []  #in py questa è una semplice lista vuota\n",
    "    for filename in os.listdir(path):\n",
    "        audio_list.append(\n",
    "            (scipy.io.wavfile.read(path + filename)[0], scipy.io.wavfile.read(path + filename)[1], filename))\n",
    "    #print(audio_list)\n",
    "    return audio_list\n",
    "\n",
    "def spg(path):\n",
    "    start = True\n",
    "    _spg = 0\n",
    "    for filename in os.listdir(path):\n",
    "        rate, data = scipy.io.wavfile.read(path + filename)\n",
    "        f, t, Sxx = signal.spectrogram(data, rate, 'hamming', 512, 160, 512)\n",
    "        if start:\n",
    "            _spg = Sxx\n",
    "            start = False\n",
    "        else:\n",
    "            _spg = scipy.hstack((_spg, Sxx))\n",
    "    _spg = 10 * np.log10(_spg + sys.float_info.min)\n",
    "    return _spg\n",
    "\n",
    "def cspg(path1, path2):\n",
    "    _spg1 = spg(path1)\n",
    "    _spg2 = spg(path2)\n",
    "    _spg = scipy.hstack((_spg1, _spg2))\n",
    "    return _spg\n",
    "\n",
    "def spg_b(s, U):\n",
    "    ssum = np.sum(s)\n",
    "    approx_sum = 0\n",
    "    i = 0\n",
    "    for e_value in s:\n",
    "        approx_sum = approx_sum + e_value\n",
    "        if approx_sum >= ssum * 0.95:\n",
    "            break\n",
    "        i = i + 1\n",
    "    base = U[:, range(0, 20)]\n",
    "    return base\n",
    "\n",
    "#unknowns = load_audio(path_unknowns)\n",
    "music = load_audio(path_music)\n",
    "speech = load_audio(path_speech)"
   ]
  },
  {
   "cell_type": "markdown",
   "metadata": {},
   "source": [
    "Data $M\\in \\mathbb{C}^{mxn}$ allora $M = U \\Sigma V^*$ con $U\\in \\mathbb{C}^{mxm}$ , $\\Sigma\\in \\mathbb{C}^{mxn}$ , $V\\in\\mathbb{C}^{nxn}$\n",
    "\n",
    "Date $M_A$ e $M_B$ con $M_A = M_B^T$ allora $M_A = U_A \\Sigma_A V_A^*$ e $M_B = U_B \\Sigma_B V_B^*$ \n",
    "\n",
    "$M_A = M_B^T$ quindi $U_A \\Sigma_A V_A^* = (U_B \\Sigma_B V_B^*)^T = V_B^\\dagger \\Sigma_B^T U_B^T $\n",
    "$$ U_A = V_B^\\dagger $$\n",
    "$$ \\Sigma_A = \\Sigma_B^T $$\n",
    "$$ V_A = U_B^T$$ \n",
    "\n",
    "Nota1::$M^\\dagger = M^*T=M^T*$\n",
    "\n",
    "Nota2::$(ABC ... XYZ)^T = Z^T Y^T X^T ... C^T A^T B^T$\n",
    "\n",
    "Nota3::$\\mathbb{C}^{mxn}$ sono matrici a valori complessi di dimensioni mxn"
   ]
  },
  {
   "cell_type": "code",
   "execution_count": 6,
   "metadata": {
    "collapsed": false
   },
   "outputs": [
    {
     "name": "stdout",
     "output_type": "stream",
     "text": [
      "b_music shape (257, 20)\n"
     ]
    }
   ],
   "source": [
    "spg_music = spg(path_music)\n",
    "#print(\"spg_music shape: \",spg_music.shape)\n",
    "U, s, V= np.linalg.svd(spg_music)\n",
    "#le colonne di U sono autovettori\n",
    "b_music = spg_b(s,U)#riduco la base\n",
    "#ottengo una base con i vettori per colonna\n",
    "print(\"b_music shape\",b_music.shape)\n",
    "#norm_music = np.dot(b_music.conj().T,b_music)\n",
    "#norm_music[norm_music<0.1]=0\n",
    "#norm_music[norm_music>0.9]=1\n",
    "#print(norm_music)\n",
    "#print(\"norm_music shape\",norm_music.shape)"
   ]
  },
  {
   "cell_type": "code",
   "execution_count": 4,
   "metadata": {
    "collapsed": false,
    "scrolled": true
   },
   "outputs": [
    {
     "name": "stdout",
     "output_type": "stream",
     "text": [
      "b_speech shape (257, 20)\n"
     ]
    }
   ],
   "source": [
    "spg_speech = spg(path_speech)\n",
    "#print(\"spg_speech shape: \",spg_speech.shape)\n",
    "U, s, V= np.linalg.svd(spg_speech)\n",
    "b_speech = spg_b(s,U)\n",
    "print(\"b_speech shape\",b_speech.shape)\n",
    "#norm_speech = np.dot(b_speech.conj().T,b_speech)\n",
    "#print(\"norm_speech shape\",norm_speech.shape)\n",
    "\n",
    "#norm_speech[norm_speech<0.1]=0\n",
    "#norm_speech[norm_speech>0.9]=1"
   ]
  },
  {
   "cell_type": "code",
   "execution_count": 5,
   "metadata": {
    "collapsed": false
   },
   "outputs": [
    {
     "name": "stdout",
     "output_type": "stream",
     "text": [
      "b_total shape (257, 20)\n"
     ]
    }
   ],
   "source": [
    "spg_total = cspg(path_speech,path_music)\n",
    "#print(\"spg_speech shape: \",spg_speech.shape)\n",
    "U, s, V= np.linalg.svd(spg_total)\n",
    "b_total = spg_b(s,U)\n",
    "print(\"b_total shape\",b_total.shape)\n",
    "#norm_speech = np.dot(b_speech.conj().T,b_speech)\n",
    "#print(\"norm_speech shape\",norm_speech.shape)\n",
    "\n",
    "#norm_speech[norm_speech<0.1]=0\n",
    "#norm_speech[norm_speech>0.9]=1"
   ]
  },
  {
   "cell_type": "code",
   "execution_count": 6,
   "metadata": {
    "collapsed": false,
    "scrolled": true
   },
   "outputs": [
    {
     "name": "stdout",
     "output_type": "stream",
     "text": [
      "Item:  004_BobDylan-OxfordTown-10s-B.wav\n",
      "\t\t\t\tPARLATO\n",
      "Item:  007si1079.wav\n",
      "\t\t\t\tPARLATO\n",
      "Item:  007si1271.wav\n",
      "\t\t\t\tPARLATO\n",
      "Item:  010_CiboMatto-Moonchild-10s-A.wav\n",
      "\t\t\t\tMUSICA\n",
      "Item:  014si1291.wav\n",
      "\t\t\t\tPARLATO\n",
      "Item:  016si1621.wav\n",
      "\t\t\t\tPARLATO\n",
      "Item:  019_Nirvana-Downer-10s-B.wav\n",
      "\t\t\t\tMUSICA\n",
      "Item:  024_JimiHendrix-WaitUntilTomorrow-10s-A.wav\n",
      "\t\t\t\tMUSICA\n"
     ]
    }
   ],
   "source": [
    "for rate,data,filename in unknowns:\n",
    "    f, t, Sxx = signal.spectrogram(data , rate, 'hamming',512,160,512)\n",
    "    Sxx = 10*np.log10(Sxx+sys.float_info.min)\n",
    "    spg_unk = Sxx\n",
    "    print('Item: ',filename)\n",
    "    #print('\\tOnSpeech: ',Sxx.T.shape,'X',b_speech.shape,'=',np.dot(Sxx.T,b_speech).shape) \n",
    "    #print('\\tOnMusic: ',Sxx.T.shape,'X',b_music.shape,'=',np.dot(Sxx.T,b_music).shape) \n",
    "    \n",
    "    unk_on_music = np.dot(Sxx.T,b_music) #sono i coeff\n",
    "    unk_on_speech = np.dot(Sxx.T,b_speech) #sono i coeff\n",
    "    \n",
    "    spg_ric_on_music = np.dot(unk_on_music,b_music.T).T\n",
    "    #print('Stima sulla musica',spg_ric_on_music.shape)\n",
    "    error_on_music = np.linalg.norm(spg_unk-spg_ric_on_music)\n",
    "    #print('spg_unk',spg_unk.shape)\n",
    "    #print('spg_ric_on_music',spg_ric_on_music.shape)\n",
    "    #print('error_on_music',error_on_music.shape)\n",
    "    #error_on_music = np.sum(np.power(spg_unk-spg_ric_on_music,2))\n",
    "    \n",
    "    spg_ric_on_speech = np.dot(unk_on_speech,b_speech.T).T\n",
    "    #print('Stima sull parlato',spg_ric_on_speech.shape)\n",
    "    error_on_speech = np.linalg.norm(spg_unk-spg_ric_on_speech)\n",
    "    #error_on_speech = np.sum(np.power(spg_unk-spg_ric_on_speech,2))\n",
    "    \n",
    "    #print('\\terr on music',error_on_music)\n",
    "    #print('\\terr on speech',error_on_speech)\n",
    "    if error_on_music<error_on_speech: print('\\t\\t\\t\\tMUSICA')\n",
    "    else: print('\\t\\t\\t\\tPARLATO')\n",
    "    \n",
    "#....considerazioni"
   ]
  },
  {
   "cell_type": "code",
   "execution_count": 7,
   "metadata": {
    "collapsed": false
   },
   "outputs": [],
   "source": [
    "media = np.zeros(b_music.shape[1])\n",
    "i = 0\n",
    "for rate,data,filename in music:\n",
    "    i+=1\n",
    "    f, t, Sxx = signal.spectrogram(data , rate, 'hamming',512,160,512)\n",
    "    Sxx = 10*np.log10(Sxx+sys.float_info.min)\n",
    "    spg_unk = Sxx\n",
    "    \n",
    "    unk_on_music = np.dot(Sxx.T,b_music)\n",
    "    media += np.mean(unk_on_music,0)\n",
    "\n",
    "media_m = media/i\n",
    "\n",
    "\n",
    "media = np.zeros(b_speech.shape[1])\n",
    "i = 0\n",
    "for rate,data,filename in speech:\n",
    "    i+=1\n",
    "    f, t, Sxx = signal.spectrogram(data , rate, 'hamming',512,160,512)\n",
    "    Sxx = 10*np.log10(Sxx+sys.float_info.min)\n",
    "    spg_unk = Sxx\n",
    "    \n",
    "    unk_on_speech = np.dot(Sxx.T,b_speech)\n",
    "    media += np.mean(unk_on_speech,0)\n",
    "\n",
    "media_s = media/i\n",
    "    \n",
    "#print('mean speech',media_s)\n",
    "#print('mean music',media_m)"
   ]
  },
  {
   "cell_type": "code",
   "execution_count": 8,
   "metadata": {
    "collapsed": false,
    "scrolled": false
   },
   "outputs": [
    {
     "name": "stdout",
     "output_type": "stream",
     "text": [
      "Item:  004_BobDylan-OxfordTown-10s-B.wav\n",
      "\t\t\t\tMUSICA\n",
      "Item:  007si1079.wav\n",
      "\t\t\t\tPARLATO\n",
      "Item:  007si1271.wav\n",
      "\t\t\t\tPARLATO\n",
      "Item:  010_CiboMatto-Moonchild-10s-A.wav\n",
      "\t\t\t\tMUSICA\n",
      "Item:  014si1291.wav\n",
      "\t\t\t\tPARLATO\n",
      "Item:  016si1621.wav\n",
      "\t\t\t\tPARLATO\n",
      "Item:  019_Nirvana-Downer-10s-B.wav\n",
      "\t\t\t\tMUSICA\n",
      "Item:  024_JimiHendrix-WaitUntilTomorrow-10s-A.wav\n",
      "\t\t\t\tMUSICA\n"
     ]
    }
   ],
   "source": [
    "for rate,data,filename in unknowns:\n",
    "    f, t, Sxx = signal.spectrogram(data , rate, 'hamming',512,160,512)\n",
    "    Sxx = 10*np.log10(Sxx+sys.float_info.min)\n",
    "    spg_unk = Sxx\n",
    "    print('Item: ',filename)\n",
    "    \n",
    "    unk_on_music = np.dot(Sxx.T,b_music)\n",
    "    unk_on_speech = np.dot(Sxx.T,b_speech)\n",
    "    \n",
    "    mat_med_m = np.matrix(np.tile(media_m,[unk_on_music.shape[0],1]))\n",
    "    mat_med_s = np.matrix(np.tile(media_s,[unk_on_speech.shape[0],1]))\n",
    "    \n",
    "    v_m = np.linalg.norm(unk_on_music-mat_med_m)\n",
    "    v_s = np.linalg.norm(unk_on_speech-mat_med_s)\n",
    "    \n",
    "    if v_m<v_s: print('\\t\\t\\t\\tMUSICA')\n",
    "    else: print('\\t\\t\\t\\tPARLATO')\n",
    "    \n",
    "#BELLISSIMO"
   ]
  },
  {
   "cell_type": "code",
   "execution_count": 9,
   "metadata": {
    "collapsed": false
   },
   "outputs": [],
   "source": [
    "media = np.zeros(b_total.shape[1])\n",
    "i = 0\n",
    "for rate,data,filename in music:\n",
    "    i+=1\n",
    "    f, t, Sxx = signal.spectrogram(data , rate, 'hamming',512,160,512)\n",
    "    Sxx = 10*np.log10(Sxx+sys.float_info.min)\n",
    "    spg_unk = Sxx\n",
    "    \n",
    "    unk_on_music = np.dot(Sxx.T,b_total)\n",
    "    media += np.mean(unk_on_music,0)\n",
    "\n",
    "media_m_t = media/i\n",
    "\n",
    "\n",
    "media = np.zeros(b_total.shape[1])\n",
    "i = 0\n",
    "for rate,data,filename in speech:\n",
    "    i+=1\n",
    "    f, t, Sxx = signal.spectrogram(data , rate, 'hamming',512,160,512)\n",
    "    Sxx = 10*np.log10(Sxx+sys.float_info.min)\n",
    "    spg_unk = Sxx\n",
    "    \n",
    "    unk_on_speech = np.dot(Sxx.T,b_total)\n",
    "    media += np.mean(unk_on_speech,0)\n",
    "\n",
    "media_s_t = media/i\n",
    "    \n",
    "#print('mean speech',media_s_t)\n",
    "#print('mean music',media_m_t)"
   ]
  },
  {
   "cell_type": "code",
   "execution_count": 10,
   "metadata": {
    "collapsed": false
   },
   "outputs": [
    {
     "name": "stdout",
     "output_type": "stream",
     "text": [
      "Item:  004_BobDylan-OxfordTown-10s-B.wav\n",
      "\t\t\t\tMUSICA\n",
      "Item:  007si1079.wav\n",
      "\t\t\t\tPARLATO\n",
      "Item:  007si1271.wav\n",
      "\t\t\t\tPARLATO\n",
      "Item:  010_CiboMatto-Moonchild-10s-A.wav\n",
      "\t\t\t\tMUSICA\n",
      "Item:  014si1291.wav\n",
      "\t\t\t\tPARLATO\n",
      "Item:  016si1621.wav\n",
      "\t\t\t\tPARLATO\n",
      "Item:  019_Nirvana-Downer-10s-B.wav\n",
      "\t\t\t\tMUSICA\n",
      "Item:  024_JimiHendrix-WaitUntilTomorrow-10s-A.wav\n",
      "\t\t\t\tMUSICA\n"
     ]
    }
   ],
   "source": [
    "#media con base unica\n",
    "for rate,data,filename in unknowns:\n",
    "    f, t, Sxx = signal.spectrogram(data , rate, 'hamming',512,160,512)\n",
    "    Sxx = 10*np.log10(Sxx+sys.float_info.min)\n",
    "    spg_unk = Sxx\n",
    "    print('Item: ',filename)\n",
    "    \n",
    "    unk_on_base = np.dot(Sxx.T,b_total)\n",
    "    \n",
    "    mat_med_m_t = np.matrix(np.tile(media_m_t,[unk_on_base.shape[0],1]))\n",
    "    mat_med_s_t = np.matrix(np.tile(media_s_t,[unk_on_base.shape[0],1]))\n",
    "    \n",
    "    v_m = np.linalg.norm(unk_on_base-mat_med_m_t)\n",
    "    v_s = np.linalg.norm(unk_on_base-mat_med_s_t)\n",
    "    \n",
    "    if v_m<v_s: print('\\t\\t\\t\\tMUSICA')\n",
    "    else: print('\\t\\t\\t\\tPARLATO')\n",
    "    \n",
    "#BELLISSIMO"
   ]
  },
  {
   "cell_type": "code",
   "execution_count": null,
   "metadata": {
    "collapsed": true
   },
   "outputs": [],
   "source": [
    ""
   ]
  },
  {
   "cell_type": "code",
   "execution_count": null,
   "metadata": {
    "collapsed": true
   },
   "outputs": [],
   "source": [
    ""
   ]
  },
  {
   "cell_type": "code",
   "execution_count": null,
   "metadata": {
    "collapsed": true
   },
   "outputs": [],
   "source": [
    ""
   ]
  }
 ],
 "metadata": {
  "kernelspec": {
   "display_name": "Python 3",
   "language": "python",
   "name": "python3"
  },
  "language_info": {
   "codemirror_mode": {
    "name": "ipython",
    "version": 3.0
   },
   "file_extension": ".py",
   "mimetype": "text/x-python",
   "name": "python",
   "nbconvert_exporter": "python",
   "pygments_lexer": "ipython3",
   "version": "3.6.0"
  }
 },
 "nbformat": 4,
 "nbformat_minor": 0
}